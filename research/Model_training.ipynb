{
 "cells": [
  {
   "cell_type": "code",
   "execution_count": 37,
   "id": "6fbb0006",
   "metadata": {},
   "outputs": [],
   "source": [
    "import os \n",
    "import pandas as pd\n"
   ]
  },
  {
   "cell_type": "code",
   "execution_count": 38,
   "metadata": {},
   "outputs": [],
   "source": [
    "vector_data=pd.read_csv('D:\\Model_Deployement\\End_to_End_Phishing_mail_detection_ML_project\\\\artifacts\\data_preprocessed\\\\vectorized_data.csv',index_col=False)"
   ]
  },
  {
   "cell_type": "code",
   "execution_count": 39,
   "metadata": {},
   "outputs": [],
   "source": [
    "k=vector_data['Email_vector']"
   ]
  },
  {
   "cell_type": "code",
   "execution_count": 40,
   "metadata": {},
   "outputs": [],
   "source": [
    "import numpy as np\n",
    "def convert_string_to_array(vector_string):\n",
    "    \"\"\"Convert string representation of vector to numpy array\"\"\"\n",
    "    try:\n",
    "        # Remove brackets and split by whitespace\n",
    "        vector_string = vector_string.strip('[]')\n",
    "        # Convert to numpy array\n",
    "        return np.fromstring(vector_string, sep=' ')\n",
    "    except:\n",
    "        return None\n",
    "\n",
    "vector_data['Email_vector'] = vector_data['Email_vector'].apply(convert_string_to_array)\n",
    "\n",
    "    \n",
    " # Example usage, convert the first vector string to numpy array"
   ]
  },
  {
   "cell_type": "code",
   "execution_count": 42,
   "id": "17d0769b",
   "metadata": {},
   "outputs": [
    {
     "data": {
      "text/plain": [
       "0        0\n",
       "1        0\n",
       "2        0\n",
       "3        1\n",
       "4        1\n",
       "        ..\n",
       "18645    1\n",
       "18646    0\n",
       "18647    0\n",
       "18648    0\n",
       "18649    1\n",
       "Name: Email Type, Length: 18650, dtype: int64"
      ]
     },
     "execution_count": 42,
     "metadata": {},
     "output_type": "execute_result"
    }
   ],
   "source": [
    "vector_data['Email Type']\n"
   ]
  },
  {
   "cell_type": "code",
   "execution_count": 44,
   "id": "270d285d",
   "metadata": {},
   "outputs": [],
   "source": [
    "vector_data=vector_data[['Email_vector','Email Type']]"
   ]
  },
  {
   "cell_type": "code",
   "execution_count": 46,
   "id": "8cf34a5b",
   "metadata": {},
   "outputs": [],
   "source": [
    "vector_data.rename(columns={'Email_vector':'Feature','Email Type':'Target'},inplace=True)"
   ]
  },
  {
   "cell_type": "code",
   "execution_count": 47,
   "metadata": {},
   "outputs": [
    {
     "data": {
      "text/html": [
       "<div>\n",
       "<style scoped>\n",
       "    .dataframe tbody tr th:only-of-type {\n",
       "        vertical-align: middle;\n",
       "    }\n",
       "\n",
       "    .dataframe tbody tr th {\n",
       "        vertical-align: top;\n",
       "    }\n",
       "\n",
       "    .dataframe thead th {\n",
       "        text-align: right;\n",
       "    }\n",
       "</style>\n",
       "<table border=\"1\" class=\"dataframe\">\n",
       "  <thead>\n",
       "    <tr style=\"text-align: right;\">\n",
       "      <th></th>\n",
       "      <th>Feature</th>\n",
       "      <th>Target</th>\n",
       "    </tr>\n",
       "  </thead>\n",
       "  <tbody>\n",
       "    <tr>\n",
       "      <th>0</th>\n",
       "      <td>[-0.63010776, 0.34649888, 0.16577671, 0.050873...</td>\n",
       "      <td>0</td>\n",
       "    </tr>\n",
       "    <tr>\n",
       "      <th>1</th>\n",
       "      <td>[-0.6872441, 0.8160633, 0.26467782, 0.01559338...</td>\n",
       "      <td>0</td>\n",
       "    </tr>\n",
       "    <tr>\n",
       "      <th>2</th>\n",
       "      <td>[-1.1524391, 1.2123232, -0.79381204, 1.2315739...</td>\n",
       "      <td>0</td>\n",
       "    </tr>\n",
       "    <tr>\n",
       "      <th>3</th>\n",
       "      <td>[-0.622395635, 0.284755796, -0.675644875, 0.20...</td>\n",
       "      <td>1</td>\n",
       "    </tr>\n",
       "    <tr>\n",
       "      <th>4</th>\n",
       "      <td>[-0.6398096, 0.47042787, -0.0013294, 0.3611383...</td>\n",
       "      <td>1</td>\n",
       "    </tr>\n",
       "  </tbody>\n",
       "</table>\n",
       "</div>"
      ],
      "text/plain": [
       "                                             Feature  Target\n",
       "0  [-0.63010776, 0.34649888, 0.16577671, 0.050873...       0\n",
       "1  [-0.6872441, 0.8160633, 0.26467782, 0.01559338...       0\n",
       "2  [-1.1524391, 1.2123232, -0.79381204, 1.2315739...       0\n",
       "3  [-0.622395635, 0.284755796, -0.675644875, 0.20...       1\n",
       "4  [-0.6398096, 0.47042787, -0.0013294, 0.3611383...       1"
      ]
     },
     "execution_count": 47,
     "metadata": {},
     "output_type": "execute_result"
    }
   ],
   "source": [
    "vector_data.head()"
   ]
  },
  {
   "cell_type": "code",
   "execution_count": null,
   "id": "8ee03253",
   "metadata": {},
   "outputs": [],
   "source": [
    "from sklearn.model_selection import train_test_split\n",
    "X = vector_data['Feature'].values\n",
    "y = vector_data['Target'].values\n"
   ]
  },
  {
   "cell_type": "code",
   "execution_count": null,
   "metadata": {},
   "outputs": [],
   "source": []
  },
  {
   "cell_type": "markdown",
   "id": "f9376372",
   "metadata": {},
   "source": [
    "# Model training on the data"
   ]
  },
  {
   "cell_type": "code",
   "execution_count": 13,
   "metadata": {},
   "outputs": [],
   "source": [
    "import os\n",
    "from pathlib import Path\n"
   ]
  },
  {
   "cell_type": "code",
   "execution_count": 25,
   "metadata": {},
   "outputs": [
    {
     "data": {
      "text/plain": [
       "'d:\\\\Model_Deployement\\\\End_to_End_Phishing_mail_detection_ML_project'"
      ]
     },
     "execution_count": 25,
     "metadata": {},
     "output_type": "execute_result"
    }
   ],
   "source": [
    "os.getcwd()"
   ]
  },
  {
   "cell_type": "code",
   "execution_count": 10,
   "id": "1e521318",
   "metadata": {},
   "outputs": [],
   "source": [
    "os.chdir('../')"
   ]
  },
  {
   "cell_type": "code",
   "execution_count": 31,
   "id": "07339ea4",
   "metadata": {},
   "outputs": [],
   "source": [
    "from dataclasses import dataclass\n",
    "@dataclass(frozen=True)\n",
    "class ModelTrainingConfig:\n",
    "    root_dir :Path\n",
    "    training_data_path: Path\n",
    "    trained_model_dir: Path\n",
    "    # model_name: str\n",
    "    # model_params: dict\n"
   ]
  },
  {
   "cell_type": "code",
   "execution_count": 32,
   "id": "53420fab",
   "metadata": {},
   "outputs": [],
   "source": [
    "from Phising_mail_detection.constants import *\n",
    "from Phising_mail_detection.utils.common import read_yaml,create_directories\n",
    "\n",
    "class ConfigurationManager:\n",
    "    def __init__(\n",
    "        self,\n",
    "        config_filepath = CONFIG_FILE_PATH,\n",
    "        params_filepath = PARAMS_FILE_PATH,\n",
    "        schema_filepath = SCHEMA_FILE_PATH):\n",
    "\n",
    "        self.config = read_yaml(config_filepath)\n",
    "        self.params = read_yaml(params_filepath)\n",
    "        self.schema = read_yaml(schema_filepath)\n",
    "\n",
    "        create_directories([self.config.artifacts_root])\n",
    "\n",
    "\n",
    "    \n",
    "    def get_data_preprocessing_config(self) -> ModelTrainingConfig:\n",
    "        config = self.config.Model_training\n",
    "        # params=self.params.model_params\n",
    "        # schema = self.schema.COLUMNS\n",
    "\n",
    "        create_directories([config.root_dir])\n",
    "\n",
    "        Model_train_config = ModelTrainingConfig(\n",
    "            root_dir = config.root_dir,\n",
    "            training_data_path= config.training_data_path,\n",
    "            trained_model_dir= config.trained_model_dir,\n",
    "            # model_name = params.model_name,\n",
    "            # model_params = params.model_params\n",
    "        )\n",
    "\n",
    "        return Model_train_config\n"
   ]
  },
  {
   "cell_type": "code",
   "execution_count": 35,
   "id": "c248a18e",
   "metadata": {},
   "outputs": [],
   "source": [
    "from Phising_mail_detection import logger\n",
    "import numpy as np\n",
    "from Phising_mail_detection.utils.common import load_model,save_model\n",
    "from sklearn.model_selection import train_test_split\n",
    "import pandas as pd\n",
    "from sklearn.ensemble import RandomForestClassifier\n",
    "from sklearn.metrics import accuracy_score, classification_report, confusion_matrix,classification_report\n",
    "from lightgbm import LGBMClassifier\n",
    "\n",
    "\n",
    "class Model_training_function:\n",
    "    def __init__(self, config: ModelTrainingConfig):\n",
    "        self.config = config\n",
    "    \n",
    "    def convert_string_to_array(self,vector_string):\n",
    "        \n",
    "      \"\"\"Convert string representation of vector to numpy array\"\"\"\n",
    "      try:\n",
    "        # Remove brackets and split by whitespace\n",
    "            vector_string = vector_string.strip('[]')\n",
    "        # Convert to numpy array\n",
    "            return np.fromstring(vector_string, sep=' ')\n",
    "      except Exception as e:\n",
    "            return e\n",
    "      \n",
    "\n",
    "    def data_preparation(self):\n",
    "        logger.info(\"Loading training data\")\n",
    "        training_data = pd.read_csv(self.config.training_data_path)\n",
    "        training_data['Email_vector'] = training_data['Email_vector'].apply(self.convert_string_to_array)\n",
    "        logger.info(\"Splitting data into features and target\")\n",
    "        X = training_data['Email_vector']\n",
    "        y = training_data['Email Type'].values\n",
    "        logger.info(\"Splitting data into train and test sets\")\n",
    "        X_train, X_test, y_train, y_test = train_test_split(X, y, test_size=0.2, random_state=42)\n",
    "        X_train = np.vstack(X_train)\n",
    "        X_test= np.vstack(X_test)\n",
    "        print(X_train.shape)\n",
    "        return X_train, X_test, y_train, y_test\n",
    "    \n",
    "    def model_training(self):\n",
    "        logger.info(\"Training the model\")\n",
    "        \n",
    "        X_train, X_test, y_train, y_test = self.data_preparation()\n",
    "                # model = LGBMClassifier()\n",
    "        # model = LGBMClassifier(n_estimators=100, learning_rate=0.1, max_depth=5, random_state=42)\n",
    "        model=RandomForestClassifier(n_estimators=100, random_state=42)\n",
    "        model.fit(X_train, y_train)\n",
    "        logger.info(\"Model evaluation on training data\")\n",
    "        y_train_pred = model.predict(X_train)\n",
    "        train_accuracy = accuracy_score(y_train, y_train_pred)\n",
    "        train_classification_rep = classification_report(y_train, y_train_pred)\n",
    "        print(f\"Training Accuracy: {train_accuracy}\")\n",
    "        print(\"Training Classification Report:\")\n",
    "        print(train_classification_rep)\n",
    "        logger.info(\"Evaluating the model\")\n",
    "        y_pred = model.predict(X_test)\n",
    "        accuracy = accuracy_score(y_test, y_pred)\n",
    "        classification_rep = classification_report(y_test, y_pred)\n",
    "        print(f\"Accuracy: {accuracy}\")\n",
    "        print(\"Classification Report:\")\n",
    "        print(classification_rep)\n",
    "        print(\"Confusion Matrix:\")\n",
    "        print(confusion_matrix(y_test, y_pred))\n",
    "        logger.info(\"Saving the trained model\")\n",
    "        save_model(model, self.config.trained_model_dir)\n"
   ]
  },
  {
   "cell_type": "code",
   "execution_count": 36,
   "id": "8c9f03cd",
   "metadata": {},
   "outputs": [
    {
     "name": "stdout",
     "output_type": "stream",
     "text": [
      "[2025-08-05 14:07:56,520:'INFO':common:yaml file: config\\config.yaml loaded successfully]\n",
      "[2025-08-05 14:07:56,524:'INFO':common:yaml file: params.yaml loaded successfully]\n",
      "[2025-08-05 14:07:56,524:'INFO':common:yaml file: schema.yaml loaded successfully]\n",
      "[2025-08-05 14:07:56,530:'INFO':common:created directory at: artifacts]\n",
      "[2025-08-05 14:07:56,530:'INFO':common:created directory at: artifacts/model_training]\n",
      "[2025-08-05 14:07:56,530:'INFO':1355998675:Training the model]\n",
      "[2025-08-05 14:07:56,538:'INFO':1355998675:Loading training data]\n",
      "[2025-08-05 14:08:00,503:'INFO':1355998675:Splitting data into features and target]\n",
      "[2025-08-05 14:08:00,503:'INFO':1355998675:Splitting data into train and test sets]\n",
      "(14920, 100)\n",
      "[2025-08-05 14:08:29,193:'INFO':1355998675:Model evaluation on training data]\n",
      "Training Accuracy: 0.988941018766756\n",
      "Training Classification Report:\n",
      "              precision    recall  f1-score   support\n",
      "\n",
      "           0       1.00      0.98      0.99      9049\n",
      "           1       0.97      1.00      0.99      5871\n",
      "\n",
      "    accuracy                           0.99     14920\n",
      "   macro avg       0.99      0.99      0.99     14920\n",
      "weighted avg       0.99      0.99      0.99     14920\n",
      "\n",
      "[2025-08-05 14:08:29,494:'INFO':1355998675:Evaluating the model]\n",
      "Accuracy: 0.9600536193029491\n",
      "Classification Report:\n",
      "              precision    recall  f1-score   support\n",
      "\n",
      "           0       0.97      0.97      0.97      2273\n",
      "           1       0.95      0.95      0.95      1457\n",
      "\n",
      "    accuracy                           0.96      3730\n",
      "   macro avg       0.96      0.96      0.96      3730\n",
      "weighted avg       0.96      0.96      0.96      3730\n",
      "\n",
      "Confusion Matrix:\n",
      "[[2198   75]\n",
      " [  74 1383]]\n",
      "[2025-08-05 14:08:29,610:'INFO':1355998675:Saving the trained model]\n"
     ]
    }
   ],
   "source": [
    "try:\n",
    "    config = ConfigurationManager()\n",
    "    model_training_config = config.get_data_preprocessing_config()\n",
    "    model= Model_training_function(config=model_training_config)\n",
    "    model.model_training()\n",
    "except Exception as e:\n",
    "    logger.exception(e)\n",
    "    raise e"
   ]
  }
 ],
 "metadata": {
  "kernelspec": {
   "display_name": "nlp",
   "language": "python",
   "name": "python3"
  },
  "language_info": {
   "codemirror_mode": {
    "name": "ipython",
    "version": 3
   },
   "file_extension": ".py",
   "mimetype": "text/x-python",
   "name": "python",
   "nbconvert_exporter": "python",
   "pygments_lexer": "ipython3",
   "version": "3.11.1"
  }
 },
 "nbformat": 4,
 "nbformat_minor": 5
}
