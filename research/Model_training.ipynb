{
 "cells": [
  {
   "cell_type": "code",
   "execution_count": 48,
   "id": "6fbb0006",
   "metadata": {},
   "outputs": [],
   "source": [
    "import os \n",
    "import pandas as pd\n"
   ]
  },
  {
   "cell_type": "code",
   "execution_count": 53,
   "metadata": {},
   "outputs": [],
   "source": [
    "vector_data=pd.read_csv('D:\\Model_Deployement\\End_to_End_Phishing_mail_detection_ML_project\\\\artifacts\\data_preprocessed\\\\vectorized_data.csv',index_col=False)"
   ]
  },
  {
   "cell_type": "code",
   "execution_count": 54,
   "metadata": {},
   "outputs": [],
   "source": [
    "k=vector_data['Email_vector']"
   ]
  },
  {
   "cell_type": "code",
   "execution_count": 55,
   "metadata": {},
   "outputs": [],
   "source": [
    "import numpy as np\n",
    "def convert_string_to_array(vector_string):\n",
    "    \"\"\"Convert string representation of vector to numpy array\"\"\"\n",
    "    try:\n",
    "        # Remove brackets and split by whitespace\n",
    "        vector_string = vector_string.strip('[]')\n",
    "        # Convert to numpy array\n",
    "        return np.fromstring(vector_string, sep=' ')\n",
    "    except:\n",
    "        return None\n",
    "\n",
    "vector_data['Email_vector'] = vector_data['Email_vector'].apply(convert_string_to_array)\n",
    "\n",
    "    \n",
    " # Example usage, convert the first vector string to numpy array"
   ]
  },
  {
   "cell_type": "code",
   "execution_count": 61,
   "id": "00e67210",
   "metadata": {},
   "outputs": [
    {
     "name": "stdout",
     "output_type": "stream",
     "text": [
      "<class 'pandas.core.frame.DataFrame'>\n",
      "RangeIndex: 18650 entries, 0 to 18649\n",
      "Data columns (total 4 columns):\n",
      " #   Column        Non-Null Count  Dtype \n",
      "---  ------        --------------  ----- \n",
      " 0   Email Text    18634 non-null  object\n",
      " 1   Email Type    18650 non-null  int64 \n",
      " 2   tokens        18650 non-null  object\n",
      " 3   Email_vector  18650 non-null  object\n",
      "dtypes: int64(1), object(3)\n",
      "memory usage: 582.9+ KB\n"
     ]
    }
   ],
   "source": [
    "vector_data[vector_data.columns[2:]].info()"
   ]
  },
  {
   "cell_type": "code",
   "execution_count": 23,
   "metadata": {},
   "outputs": [],
   "source": [
    "vec=np.vstack(new)"
   ]
  },
  {
   "cell_type": "code",
   "execution_count": 25,
   "metadata": {},
   "outputs": [
    {
     "data": {
      "text/plain": [
       "(100, 1)"
      ]
     },
     "execution_count": 25,
     "metadata": {},
     "output_type": "execute_result"
    }
   ],
   "source": [
    "vec.shape"
   ]
  },
  {
   "cell_type": "code",
   "execution_count": 62,
   "metadata": {},
   "outputs": [
    {
     "name": "stderr",
     "output_type": "stream",
     "text": [
      "C:\\Users\\Admin\\AppData\\Local\\Temp\\ipykernel_12088\\2393261195.py:1: FutureWarning: A value is trying to be set on a copy of a DataFrame or Series through chained assignment using an inplace method.\n",
      "The behavior will change in pandas 3.0. This inplace method will never work because the intermediate object on which we are setting values always behaves as a copy.\n",
      "\n",
      "For example, when doing 'df[col].method(value, inplace=True)', try using 'df.method({col: value}, inplace=True)' or df[col] = df[col].method(value) instead, to perform the operation inplace on the original object.\n",
      "\n",
      "\n",
      "  vector_data['Email Type'].replace({'Safe Email':0,'Phishing Email':1},inplace=True)\n"
     ]
    }
   ],
   "source": [
    "vector_data['Email Type'].replace({'Safe Email':0,'Phishing Email':1},inplace=True)"
   ]
  },
  {
   "cell_type": "code",
   "execution_count": 63,
   "id": "96522a35",
   "metadata": {},
   "outputs": [
    {
     "data": {
      "text/plain": [
       "0        0\n",
       "1        0\n",
       "2        0\n",
       "3        1\n",
       "4        1\n",
       "        ..\n",
       "18645    1\n",
       "18646    0\n",
       "18647    0\n",
       "18648    0\n",
       "18649    1\n",
       "Name: Email Type, Length: 18650, dtype: int64"
      ]
     },
     "execution_count": 63,
     "metadata": {},
     "output_type": "execute_result"
    }
   ],
   "source": [
    "vector_data['Email Type']"
   ]
  },
  {
   "cell_type": "code",
   "execution_count": 65,
   "id": "36d22874",
   "metadata": {},
   "outputs": [
    {
     "data": {
      "text/plain": [
       "array([0, 1], dtype=int64)"
      ]
     },
     "execution_count": 65,
     "metadata": {},
     "output_type": "execute_result"
    }
   ],
   "source": [
    "vector_data['Email Type'].unique()"
   ]
  },
  {
   "cell_type": "markdown",
   "id": "f9376372",
   "metadata": {},
   "source": [
    "# Model training on the data"
   ]
  },
  {
   "cell_type": "code",
   "execution_count": null,
   "metadata": {},
   "outputs": [],
   "source": [
    "import os\n",
    "from pathlib import Path\n"
   ]
  },
  {
   "cell_type": "code",
   "execution_count": 47,
   "metadata": {},
   "outputs": [
    {
     "data": {
      "text/plain": [
       "'d:\\\\Model_Deployement\\\\End_to_End_Phishing_mail_detection_ML_project'"
      ]
     },
     "execution_count": 47,
     "metadata": {},
     "output_type": "execute_result"
    }
   ],
   "source": [
    "os.getcwd()"
   ]
  },
  {
   "cell_type": "code",
   "execution_count": 46,
   "id": "1e521318",
   "metadata": {},
   "outputs": [],
   "source": [
    "os.chdir('../')"
   ]
  },
  {
   "cell_type": "code",
   "execution_count": null,
   "id": "07339ea4",
   "metadata": {},
   "outputs": [],
   "source": [
    "from dataclasses import dataclass\n",
    "@dataclass(frozen=True)\n",
    "class ModelTrainingConfig:\n",
    "    root_dir :Path\n",
    "    training_data_path: Path\n",
    "    trained_model_dir: Path\n"
   ]
  }
 ],
 "metadata": {
  "kernelspec": {
   "display_name": "nlp",
   "language": "python",
   "name": "python3"
  },
  "language_info": {
   "codemirror_mode": {
    "name": "ipython",
    "version": 3
   },
   "file_extension": ".py",
   "mimetype": "text/x-python",
   "name": "python",
   "nbconvert_exporter": "python",
   "pygments_lexer": "ipython3",
   "version": "3.11.1"
  }
 },
 "nbformat": 4,
 "nbformat_minor": 5
}
