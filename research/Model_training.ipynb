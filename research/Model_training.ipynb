{
 "cells": [
  {
   "cell_type": "code",
   "execution_count": 48,
   "id": "6fbb0006",
   "metadata": {},
   "outputs": [],
   "source": [
    "import os \n",
    "import pandas as pd\n"
   ]
  },
  {
   "cell_type": "code",
   "execution_count": 53,
   "metadata": {},
   "outputs": [],
   "source": [
    "vector_data=pd.read_csv('D:\\Model_Deployement\\End_to_End_Phishing_mail_detection_ML_project\\\\artifacts\\data_preprocessed\\\\vectorized_data.csv',index_col=False)"
   ]
  },
  {
   "cell_type": "code",
   "execution_count": 54,
   "metadata": {},
   "outputs": [],
   "source": [
    "k=vector_data['Email_vector']"
   ]
  },
  {
   "cell_type": "code",
   "execution_count": 55,
   "metadata": {},
   "outputs": [],
   "source": [
    "import numpy as np\n",
    "def convert_string_to_array(vector_string):\n",
    "    \"\"\"Convert string representation of vector to numpy array\"\"\"\n",
    "    try:\n",
    "        # Remove brackets and split by whitespace\n",
    "        vector_string = vector_string.strip('[]')\n",
    "        # Convert to numpy array\n",
    "        return np.fromstring(vector_string, sep=' ')\n",
    "    except:\n",
    "        return None\n",
    "\n",
    "vector_data['Email_vector'] = vector_data['Email_vector'].apply(convert_string_to_array)\n",
    "\n",
    "    \n",
    " # Example usage, convert the first vector string to numpy array"
   ]
  },
  {
   "cell_type": "code",
   "execution_count": 61,
   "id": "00e67210",
   "metadata": {},
   "outputs": [
    {
     "name": "stdout",
     "output_type": "stream",
     "text": [
      "<class 'pandas.core.frame.DataFrame'>\n",
      "RangeIndex: 18650 entries, 0 to 18649\n",
      "Data columns (total 4 columns):\n",
      " #   Column        Non-Null Count  Dtype \n",
      "---  ------        --------------  ----- \n",
      " 0   Email Text    18634 non-null  object\n",
      " 1   Email Type    18650 non-null  int64 \n",
      " 2   tokens        18650 non-null  object\n",
      " 3   Email_vector  18650 non-null  object\n",
      "dtypes: int64(1), object(3)\n",
      "memory usage: 582.9+ KB\n"
     ]
    }
   ],
   "source": [
    "vector_data[vector_data.columns[2:]].info()"
   ]
  },
  {
   "cell_type": "code",
   "execution_count": 23,
   "metadata": {},
   "outputs": [],
   "source": [
    "vec=np.vstack(new)"
   ]
  },
  {
   "cell_type": "code",
   "execution_count": 25,
   "metadata": {},
   "outputs": [
    {
     "data": {
      "text/plain": [
       "(100, 1)"
      ]
     },
     "execution_count": 25,
     "metadata": {},
     "output_type": "execute_result"
    }
   ],
   "source": [
    "vec.shape"
   ]
  },
  {
   "cell_type": "code",
   "execution_count": 62,
   "metadata": {},
   "outputs": [
    {
     "name": "stderr",
     "output_type": "stream",
     "text": [
      "C:\\Users\\Admin\\AppData\\Local\\Temp\\ipykernel_12088\\2393261195.py:1: FutureWarning: A value is trying to be set on a copy of a DataFrame or Series through chained assignment using an inplace method.\n",
      "The behavior will change in pandas 3.0. This inplace method will never work because the intermediate object on which we are setting values always behaves as a copy.\n",
      "\n",
      "For example, when doing 'df[col].method(value, inplace=True)', try using 'df.method({col: value}, inplace=True)' or df[col] = df[col].method(value) instead, to perform the operation inplace on the original object.\n",
      "\n",
      "\n",
      "  vector_data['Email Type'].replace({'Safe Email':0,'Phishing Email':1},inplace=True)\n"
     ]
    }
   ],
   "source": [
    "vector_data['Email Type'].replace({'Safe Email':0,'Phishing Email':1},inplace=True)"
   ]
  },
  {
   "cell_type": "code",
   "execution_count": 63,
   "id": "96522a35",
   "metadata": {},
   "outputs": [
    {
     "data": {
      "text/plain": [
       "0        0\n",
       "1        0\n",
       "2        0\n",
       "3        1\n",
       "4        1\n",
       "        ..\n",
       "18645    1\n",
       "18646    0\n",
       "18647    0\n",
       "18648    0\n",
       "18649    1\n",
       "Name: Email Type, Length: 18650, dtype: int64"
      ]
     },
     "execution_count": 63,
     "metadata": {},
     "output_type": "execute_result"
    }
   ],
   "source": [
    "vector_data['Email Type']"
   ]
  },
  {
   "cell_type": "code",
   "execution_count": 65,
   "id": "36d22874",
   "metadata": {},
   "outputs": [
    {
     "data": {
      "text/plain": [
       "array([0, 1], dtype=int64)"
      ]
     },
     "execution_count": 65,
     "metadata": {},
     "output_type": "execute_result"
    }
   ],
   "source": [
    "vector_data['Email Type'].unique()"
   ]
  },
  {
   "cell_type": "markdown",
   "id": "f9376372",
   "metadata": {},
   "source": [
    "# Model training on the data"
   ]
  },
  {
   "cell_type": "code",
   "execution_count": 1,
   "metadata": {},
   "outputs": [],
   "source": [
    "import os\n",
    "from pathlib import Path\n"
   ]
  },
  {
   "cell_type": "code",
   "execution_count": 4,
   "metadata": {},
   "outputs": [
    {
     "data": {
      "text/plain": [
       "'d:\\\\Model_Deployement\\\\End_to_End_Phishing_mail_detection_ML_project'"
      ]
     },
     "execution_count": 4,
     "metadata": {},
     "output_type": "execute_result"
    }
   ],
   "source": [
    "os.getcwd()"
   ]
  },
  {
   "cell_type": "code",
   "execution_count": 3,
   "id": "1e521318",
   "metadata": {},
   "outputs": [],
   "source": [
    "os.chdir('../')"
   ]
  },
  {
   "cell_type": "code",
   "execution_count": 25,
   "id": "07339ea4",
   "metadata": {},
   "outputs": [],
   "source": [
    "from dataclasses import dataclass\n",
    "@dataclass(frozen=True)\n",
    "class ModelTrainingConfig:\n",
    "    root_dir :Path\n",
    "    training_data_path: Path\n",
    "    trained_model_dir: Path\n"
   ]
  },
  {
   "cell_type": "code",
   "execution_count": 26,
   "id": "53420fab",
   "metadata": {},
   "outputs": [],
   "source": [
    "from Phising_mail_detection.constants import *\n",
    "from Phising_mail_detection.utils.common import read_yaml,create_directories\n",
    "\n",
    "class ConfigurationManager:\n",
    "    def __init__(\n",
    "        self,\n",
    "        config_filepath = CONFIG_FILE_PATH,\n",
    "        params_filepath = PARAMS_FILE_PATH,\n",
    "        schema_filepath = SCHEMA_FILE_PATH):\n",
    "\n",
    "        self.config = read_yaml(config_filepath)\n",
    "        self.params = read_yaml(params_filepath)\n",
    "        self.schema = read_yaml(schema_filepath)\n",
    "\n",
    "        create_directories([self.config.artifacts_root])\n",
    "\n",
    "\n",
    "    \n",
    "    def get_data_preprocessing_config(self) -> ModelTrainingConfig:\n",
    "        config = self.config.Model_training\n",
    "        # schema = self.schema.COLUMNS\n",
    "\n",
    "        create_directories([config.root_dir])\n",
    "\n",
    "        Model_train_config = ModelTrainingConfig(\n",
    "            root_dir = config.root_dir,\n",
    "            training_data_path= config.training_data_path,\n",
    "            trained_model_dir= config.trained_model_dir\n",
    "        )\n",
    "\n",
    "        return Model_train_config\n"
   ]
  },
  {
   "cell_type": "code",
   "execution_count": 33,
   "id": "c248a18e",
   "metadata": {},
   "outputs": [],
   "source": [
    "from Phising_mail_detection import logger\n",
    "import numpy as np\n",
    "from Phising_mail_detection.utils.common import load_model,save_model\n",
    "from sklearn.model_selection import train_test_split\n",
    "import pandas as pd\n",
    "from sklearn.ensemble import RandomForestClassifier\n",
    "from sklearn.metrics import accuracy_score, classification_report, confusion_matrix,classification_report\n",
    "from lightgbm import LGBMClassifier\n",
    "\n",
    "\n",
    "class Model_training_function:\n",
    "    def __init__(self, config: ModelTrainingConfig):\n",
    "        self.config = config\n",
    "    \n",
    "    def convert_string_to_array(self,vector_string):\n",
    "        \n",
    "      \"\"\"Convert string representation of vector to numpy array\"\"\"\n",
    "      try:\n",
    "        # Remove brackets and split by whitespace\n",
    "            vector_string = vector_string.strip('[]')\n",
    "        # Convert to numpy array\n",
    "            return np.fromstring(vector_string, sep=' ')\n",
    "      except Exception as e:\n",
    "            return e\n",
    "      \n",
    "\n",
    "    def train_model(self):\n",
    "        logger.info(\"Loading training data\")\n",
    "        training_data = pd.read_csv(self.config.training_data_path)\n",
    "        training_data['Email_vector'] = training_data['Email_vector'].apply(self.convert_string_to_array)\n",
    "\n",
    "        logger.info(\"Splitting data into features and target\")\n",
    "        X = training_data['Email_vector']\n",
    "        y = training_data['Email Type'].values\n",
    "        logger.info(\"Splitting data into train and test sets\")\n",
    "        X_train, X_test, y_train, y_test = train_test_split(X, y, test_size=0.2, random_state=42)\n",
    "        X_train = np.vstack(X_train)\n",
    "        X_test= np.vstack(X_test)\n",
    "        print(X_train.shape)\n",
    "        logger.info(\"Training the model\")\n",
    "        # model = LGBMClassifier()\n",
    "        # model = LGBMClassifier(n_estimators=100, learning_rate=0.1, max_depth=5, random_state=42)\n",
    "        model=RandomForestClassifier(n_estimators=100, random_state=42)\n",
    "        model.fit(X_train, y_train)\n",
    "        logger.info(\"Model evaluation on training data\")\n",
    "        y_train_pred = model.predict(X_train)\n",
    "        train_accuracy = accuracy_score(y_train, y_train_pred)\n",
    "        train_classification_rep = classification_report(y_train, y_train_pred)\n",
    "        print(f\"Training Accuracy: {train_accuracy}\")\n",
    "        print(\"Training Classification Report:\")\n",
    "        print(train_classification_rep)\n",
    "        logger.info(\"Evaluating the model\")\n",
    "        y_pred = model.predict(X_test)\n",
    "        accuracy = accuracy_score(y_test, y_pred)\n",
    "        classification_rep = classification_report(y_test, y_pred)\n",
    "        print(f\"Accuracy: {accuracy}\")\n",
    "        print(\"Classification Report:\")\n",
    "        print(classification_rep)\n",
    "        logger.info(\"Saving the trained model\")\n",
    "        save_model(model, self.config.trained_model_dir)\n",
    "\n",
    "\n",
    "    \n",
    "        \n",
    "\n",
    "\n",
    "    \n"
   ]
  },
  {
   "cell_type": "code",
   "execution_count": 34,
   "id": "8c9f03cd",
   "metadata": {},
   "outputs": [
    {
     "name": "stdout",
     "output_type": "stream",
     "text": [
      "[2025-08-05 00:27:15,926:'INFO':common:yaml file: config\\config.yaml loaded successfully]\n",
      "[2025-08-05 00:27:15,931:'INFO':common:yaml file: params.yaml loaded successfully]\n",
      "[2025-08-05 00:27:15,933:'INFO':common:yaml file: schema.yaml loaded successfully]\n",
      "[2025-08-05 00:27:15,934:'INFO':common:created directory at: artifacts]\n",
      "[2025-08-05 00:27:15,936:'INFO':common:created directory at: artifacts/model_training]\n",
      "[2025-08-05 00:27:15,938:'INFO':14188678:Loading training data]\n",
      "[2025-08-05 00:27:18,166:'INFO':14188678:Splitting data into features and target]\n",
      "[2025-08-05 00:27:18,166:'INFO':14188678:Splitting data into train and test sets]\n",
      "(14920, 100)\n",
      "[2025-08-05 00:27:18,220:'INFO':14188678:Training the model]\n",
      "[2025-08-05 00:27:38,026:'INFO':14188678:Model evaluation on training data]\n",
      "Training Accuracy: 0.988941018766756\n",
      "Training Classification Report:\n",
      "              precision    recall  f1-score   support\n",
      "\n",
      "           0       1.00      0.98      0.99      9049\n",
      "           1       0.97      1.00      0.99      5871\n",
      "\n",
      "    accuracy                           0.99     14920\n",
      "   macro avg       0.99      0.99      0.99     14920\n",
      "weighted avg       0.99      0.99      0.99     14920\n",
      "\n",
      "[2025-08-05 00:27:38,375:'INFO':14188678:Evaluating the model]\n",
      "Accuracy: 0.9600536193029491\n",
      "Classification Report:\n",
      "              precision    recall  f1-score   support\n",
      "\n",
      "           0       0.97      0.97      0.97      2273\n",
      "           1       0.95      0.95      0.95      1457\n",
      "\n",
      "    accuracy                           0.96      3730\n",
      "   macro avg       0.96      0.96      0.96      3730\n",
      "weighted avg       0.96      0.96      0.96      3730\n",
      "\n",
      "[2025-08-05 00:27:38,470:'INFO':14188678:Saving the trained model]\n"
     ]
    }
   ],
   "source": [
    "try:\n",
    "    config = ConfigurationManager()\n",
    "    model_training_config = config.get_data_preprocessing_config()\n",
    "    model= Model_training_function(config=model_training_config)\n",
    "    model.train_model()\n",
    "except Exception as e:\n",
    "    logger.exception(e)\n",
    "    raise e"
   ]
  },
  {
   "cell_type": "code",
   "execution_count": null,
   "id": "9cf74925",
   "metadata": {},
   "outputs": [],
   "source": []
  },
  {
   "cell_type": "code",
   "execution_count": null,
   "id": "2fe27100",
   "metadata": {},
   "outputs": [],
   "source": []
  }
 ],
 "metadata": {
  "kernelspec": {
   "display_name": "nlp",
   "language": "python",
   "name": "python3"
  },
  "language_info": {
   "codemirror_mode": {
    "name": "ipython",
    "version": 3
   },
   "file_extension": ".py",
   "mimetype": "text/x-python",
   "name": "python",
   "nbconvert_exporter": "python",
   "pygments_lexer": "ipython3",
   "version": "3.11.1"
  }
 },
 "nbformat": 4,
 "nbformat_minor": 5
}
