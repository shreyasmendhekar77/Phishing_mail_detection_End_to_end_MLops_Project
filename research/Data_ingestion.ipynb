{
 "cells": [
  {
   "cell_type": "markdown",
   "id": "08d0925a",
   "metadata": {},
   "source": [
    "# Data Ingestion "
   ]
  },
  {
   "cell_type": "code",
   "execution_count": 1,
   "id": "646324d8",
   "metadata": {},
   "outputs": [],
   "source": [
    "import os\n",
    "import pandas as pd"
   ]
  },
  {
   "cell_type": "code",
   "execution_count": 2,
   "id": "8b65e766",
   "metadata": {},
   "outputs": [
    {
     "data": {
      "text/plain": [
       "'d:\\\\Model_Deployement\\\\End_to_End_Phishing_mail_detection_ML_project\\\\research'"
      ]
     },
     "execution_count": 2,
     "metadata": {},
     "output_type": "execute_result"
    }
   ],
   "source": [
    "os.getcwd()"
   ]
  },
  {
   "cell_type": "code",
   "execution_count": 3,
   "id": "3ebb5d71",
   "metadata": {},
   "outputs": [],
   "source": [
    "os.chdir('../')"
   ]
  },
  {
   "cell_type": "code",
   "execution_count": 4,
   "id": "521a8a94",
   "metadata": {},
   "outputs": [
    {
     "data": {
      "text/plain": [
       "'d:\\\\Model_Deployement\\\\End_to_End_Phishing_mail_detection_ML_project'"
      ]
     },
     "execution_count": 4,
     "metadata": {},
     "output_type": "execute_result"
    }
   ],
   "source": [
    "os.getcwd()"
   ]
  },
  {
   "cell_type": "markdown",
   "id": "7a441df7",
   "metadata": {},
   "source": [
    "This is the immutable class for storing only the path for dataingestion"
   ]
  },
  {
   "cell_type": "code",
   "execution_count": 11,
   "id": "cfd0e6c3",
   "metadata": {},
   "outputs": [],
   "source": [
    "from dataclasses import dataclass\n",
    "from pathlib import Path\n",
    "\n",
    "\n",
    "@dataclass(frozen=True)\n",
    "class DataIngestionConfig:\n",
    "    root_dir: Path\n",
    "    source_URL: str\n",
    "    local_data_file: Path\n",
    "    unzip_dir: Path"
   ]
  },
  {
   "cell_type": "markdown",
   "id": "21c8e6a4",
   "metadata": {},
   "source": [
    " All the path varibales will be filled by configuration manager - which contains one function that fill out the data required for the path info."
   ]
  },
  {
   "cell_type": "markdown",
   "id": "62c9c1e1",
   "metadata": {},
   "source": [
    "Configuration manager will only fill out the immutavble class with their respective path variables and also create the necessary "
   ]
  },
  {
   "cell_type": "code",
   "execution_count": 12,
   "id": "da2f754d",
   "metadata": {},
   "outputs": [
    {
     "name": "stdout",
     "output_type": "stream",
     "text": [
      "config\\config.yaml\n"
     ]
    }
   ],
   "source": [
    "from Phising_mail_detection.utils.common import create_directories,read_yaml\n",
    "from Phising_mail_detection.constants import *\n",
    "\n",
    "\n",
    "\n",
    "# this configuration manager will have the constructor such that - \n",
    "# it will get the config file path, params and schema file paths for \n",
    "\n",
    "class ConfigurationManager:\n",
    "    def __init__(\n",
    "        self,\n",
    "        config_filepath = CONFIG_FILE_PATH,\n",
    "        params_filepath = PARAMS_FILE_PATH,\n",
    "        schema_filepath = SCHEMA_FILE_PATH):\n",
    "\n",
    "        self.config = read_yaml(config_filepath)\n",
    "        self.params = read_yaml(params_filepath)\n",
    "        self.schema = read_yaml(schema_filepath)\n",
    "\n",
    "        create_directories([self.config.artifacts_root])\n",
    "\n",
    "\n",
    "    \n",
    "    def get_data_ingestion_config(self) -> DataIngestionConfig:\n",
    "        config = self.config.data_ingestion\n",
    "\n",
    "        create_directories([config.root_dir])\n",
    "\n",
    "        data_ingestion_config = DataIngestionConfig(\n",
    "            root_dir=config.root_dir,\n",
    "            source_URL=config.source_URL,\n",
    "            local_data_file=config.local_data_file,\n",
    "            unzip_dir=config.unzip_dir \n",
    "        )\n",
    "\n",
    "        return data_ingestion_config\n",
    "\n",
    "print(CONFIG_FILE_PATH)\n"
   ]
  },
  {
   "cell_type": "markdown",
   "id": "f6470b55",
   "metadata": {},
   "source": [
    "The main class which will do the stuff like  -  inheret the immutable class  this -> Data_ingestion_path_class and  use the path for downloading the data , storing it, preprocess it and unzip it etc ."
   ]
  },
  {
   "cell_type": "code",
   "execution_count": 13,
   "id": "7a6dc90a",
   "metadata": {},
   "outputs": [],
   "source": [
    "from Phising_mail_detection import logger\n",
    "from Phising_mail_detection.utils.common import get_size\n",
    "import os\n",
    "import gdown\n",
    "import urllib.request as request\n",
    "import zipfile\n",
    "class DataIngestion:\n",
    "    def __init__(self, config: DataIngestionConfig):\n",
    "        self.config = config\n",
    "\n",
    "\n",
    "    \n",
    "    def download_file(self)-> str:\n",
    "        '''\n",
    "        Fetch data from the url\n",
    "        '''\n",
    "\n",
    "        try: \n",
    "            dataset_url = self.config.source_URL\n",
    "            zip_download_dir = self.config.local_data_file\n",
    "            os.makedirs(\"artifacts/data_ingestion\", exist_ok=True)\n",
    "            logger.info(f\"Downloading data from {dataset_url} into file {zip_download_dir}\")\n",
    "\n",
    "            file_id = dataset_url.split(\"/\")[-2]\n",
    "            prefix = 'https://drive.google.com/uc?/export=download&id='\n",
    "            gdown.download(prefix+file_id,zip_download_dir)\n",
    "\n",
    "            logger.info(f\"Downloaded data from {dataset_url} into file {zip_download_dir}\")\n",
    "\n",
    "        except Exception as e:\n",
    "            raise e\n",
    "\n",
    "\n",
    "    def extract_zip_file(self):\n",
    "        \"\"\"\n",
    "        zip_file_path: str\n",
    "        Extracts the zip file into the data directory\n",
    "        Function returns None\n",
    "        \"\"\"\n",
    "        unzip_path = self.config.unzip_dir\n",
    "        os.makedirs(unzip_path, exist_ok=True)\n",
    "        with zipfile.ZipFile(self.config.local_data_file, 'r') as zip_ref:\n",
    "            zip_ref.extractall(unzip_path)\n",
    "  "
   ]
  },
  {
   "cell_type": "markdown",
   "id": "ede8b496",
   "metadata": {},
   "source": [
    "Now just like connect the classes with each other."
   ]
  },
  {
   "cell_type": "code",
   "execution_count": 14,
   "id": "2e5c9d91",
   "metadata": {},
   "outputs": [
    {
     "name": "stdout",
     "output_type": "stream",
     "text": [
      "[2025-08-02 18:04:58,725:'INFO':common:yaml file: config\\config.yaml loaded successfully]\n",
      "[2025-08-02 18:04:58,730:'INFO':common:yaml file: params.yaml loaded successfully]\n",
      "[2025-08-02 18:04:58,732:'INFO':common:yaml file: schema.yaml loaded successfully]\n",
      "[2025-08-02 18:04:58,739:'INFO':common:created directory at: artifacts]\n",
      "[2025-08-02 18:04:58,739:'INFO':common:created directory at: artifacts/data_ingestion]\n",
      "[2025-08-02 18:04:58,747:'INFO':1000723594:Downloading data from https://drive.google.com/file/d/1RpSMHhd_AJHOHYZHeq_mskJwRLj4YbP3/view?usp=sharing into file artifacts/data_ingestion/data.zip]\n"
     ]
    },
    {
     "name": "stderr",
     "output_type": "stream",
     "text": [
      "Downloading...\n",
      "From: https://drive.google.com/uc?/export=download&id=1RpSMHhd_AJHOHYZHeq_mskJwRLj4YbP3\n",
      "To: d:\\Model_Deployement\\End_to_End_Phishing_mail_detection_ML_project\\artifacts\\data_ingestion\\data.zip\n",
      "100%|██████████| 18.7M/18.7M [00:01<00:00, 13.0MB/s]"
     ]
    },
    {
     "name": "stdout",
     "output_type": "stream",
     "text": [
      "[2025-08-02 18:05:05,215:'INFO':1000723594:Downloaded data from https://drive.google.com/file/d/1RpSMHhd_AJHOHYZHeq_mskJwRLj4YbP3/view?usp=sharing into file artifacts/data_ingestion/data.zip]\n"
     ]
    },
    {
     "name": "stderr",
     "output_type": "stream",
     "text": [
      "\n"
     ]
    }
   ],
   "source": [
    "try:\n",
    "    config= ConfigurationManager()\n",
    "    config_path_data= config.get_data_ingestion_config()\n",
    "    data_ingestion_main=DataIngestion(config=config_path_data)\n",
    "    data_ingestion_main.download_file()\n",
    "    data_ingestion_main.extract_zip_file()\n",
    "except Exception as e:\n",
    "    raise e"
   ]
  },
  {
   "cell_type": "code",
   "execution_count": null,
   "id": "ceafc375",
   "metadata": {},
   "outputs": [],
   "source": []
  },
  {
   "cell_type": "code",
   "execution_count": null,
   "id": "656e85d0",
   "metadata": {},
   "outputs": [],
   "source": []
  }
 ],
 "metadata": {
  "kernelspec": {
   "display_name": "nlp",
   "language": "python",
   "name": "python3"
  },
  "language_info": {
   "codemirror_mode": {
    "name": "ipython",
    "version": 3
   },
   "file_extension": ".py",
   "mimetype": "text/x-python",
   "name": "python",
   "nbconvert_exporter": "python",
   "pygments_lexer": "ipython3",
   "version": "3.11.1"
  }
 },
 "nbformat": 4,
 "nbformat_minor": 5
}
