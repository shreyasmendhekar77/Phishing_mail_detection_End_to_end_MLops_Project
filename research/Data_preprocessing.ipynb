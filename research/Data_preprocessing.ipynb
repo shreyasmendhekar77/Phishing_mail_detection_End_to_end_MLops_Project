{
 "cells": [
  {
   "cell_type": "code",
   "execution_count": 14,
   "id": "438b9482",
   "metadata": {},
   "outputs": [],
   "source": [
    "import pandas as pd\n",
    "import os \n",
    "import sys"
   ]
  },
  {
   "cell_type": "code",
   "execution_count": 15,
   "metadata": {},
   "outputs": [
    {
     "data": {
      "text/plain": [
       "'d:\\\\Model_Deployement\\\\End_to_End_Phishing_mail_detection_ML_project'"
      ]
     },
     "execution_count": 15,
     "metadata": {},
     "output_type": "execute_result"
    }
   ],
   "source": [
    "os.getcwd()"
   ]
  },
  {
   "cell_type": "code",
   "execution_count": 4,
   "id": "9e6f7ccd",
   "metadata": {},
   "outputs": [],
   "source": [
    "os.chdir('../')"
   ]
  },
  {
   "cell_type": "code",
   "execution_count": 16,
   "metadata": {},
   "outputs": [],
   "source": [
    "from dataclasses import dataclass\n",
    "from pathlib import Path\n",
    "\n",
    "@dataclass(frozen=True)\n",
    "class Data_preprocessing_config:\n",
    "    root_dir: Path\n",
    "    unzip_data_dir: Path\n",
    "    vector_embed_model: Path\n",
    "    cleaned_data: Path\n",
    "    vectorized_data: Path\n"
   ]
  },
  {
   "cell_type": "code",
   "execution_count": 17,
   "id": "0ec7696b",
   "metadata": {},
   "outputs": [],
   "source": [
    "from Phising_mail_detection.constants import *\n",
    "from Phising_mail_detection.utils.common import read_yaml,create_directories\n",
    "\n",
    "class ConfigurationManager:\n",
    "    def __init__(\n",
    "        self,\n",
    "        config_filepath = CONFIG_FILE_PATH,\n",
    "        params_filepath = PARAMS_FILE_PATH,\n",
    "        schema_filepath = SCHEMA_FILE_PATH):\n",
    "\n",
    "        self.config = read_yaml(config_filepath)\n",
    "        self.params = read_yaml(params_filepath)\n",
    "        self.schema = read_yaml(schema_filepath)\n",
    "\n",
    "        create_directories([self.config.artifacts_root])\n",
    "\n",
    "\n",
    "    \n",
    "    def get_data_preprocessing_config(self) -> Data_preprocessing_config:\n",
    "        config = self.config.data_preprocessing\n",
    "        # schema = self.schema.COLUMNS\n",
    "\n",
    "        create_directories([config.root_dir])\n",
    "\n",
    "        data_validation_config = Data_preprocessing_config(\n",
    "            root_dir=config.root_dir,\n",
    "            unzip_data_dir = config.unzip_data_dir,\n",
    "            vector_embed_model= config.vector_embed_model,\n",
    "            cleaned_data = config.cleaned_data,\n",
    "            vectorized_data = config.vectorized_data\n",
    "            \n",
    "        )\n",
    "\n",
    "        return data_validation_config\n"
   ]
  },
  {
   "cell_type": "code",
   "execution_count": 18,
   "id": "6e4ecbf4",
   "metadata": {},
   "outputs": [],
   "source": [
    "from Phising_mail_detection import logger\n",
    "import re\n",
    "import numpy as np\n",
    "from nltk.corpus import stopwords\n",
    "from nltk.stem import PorterStemmer\n",
    "from Phising_mail_detection.utils.common import load_model,save_model\n",
    "import pandas as pd\n",
    "from gensim.models import Word2Vec\n",
    "\n",
    "ps=PorterStemmer()\n",
    "\n",
    "class Data_preprocessing_Validation:\n",
    "    def __init__(self, config: Data_preprocessing_config):\n",
    "        self.config = config\n",
    "    \n",
    "\n",
    "    def clean(self,data):\n",
    "        data = re.sub(r'[^a-zA-Z\\s]', '', data)\n",
    "        data = data.lower()\n",
    "        stop_words = set(stopwords.words('english'))\n",
    "        words = data.split()\n",
    "        words = [word for word in words if word not in stop_words]\n",
    "        words = [ps.stem(word) for word in words]\n",
    "        return words  # returns a list of tokens\n",
    "    \n",
    "    # Function to get average vector for an email\n",
    "    def get_email_vector(self,tokens, model):\n",
    "        vectors = [model.wv[word] for word in tokens if word in model.wv]\n",
    "        if vectors:\n",
    "            return np.mean(vectors, axis=0)\n",
    "        else:\n",
    "            return np.zeros(model.vector_size)\n",
    "\n",
    "    def clean_and_Vector_embed(self):\n",
    "        data=pd.read_csv(self.config.unzip_data_dir)\n",
    "        data['Email Text'].fillna('',inplace=True)\n",
    "        # print(data.isna().sum())\n",
    "        # print(\"First row\",data['Email Text'][0])\n",
    "        # sample=data['Email Text'][0]\n",
    "        # out=self.clean(sample)\n",
    "        # Apply the clean function on the email text feature \n",
    "        # if os.path.exists(self.config.cleaned_data):\n",
    "        #     logger.info(f\"Cleaned data already exists at {self.config.cleaned_data}\")\n",
    "        #     data = pd.read_csv(self.config.cleaned_data)\n",
    "        # else:\n",
    "        #     logger.info(\"Cleaned data file not exists\")\n",
    "        data['Email Type'].replace({'Safe Email':0,'Phishing Email':1},inplace=True)\n",
    "        data['tokens'] = data['Email Text'].apply(self.clean)\n",
    "        # data.to_csv(self.config.cleaned_data, index=False)\n",
    "        print(data['tokens'].iloc[0])  # Show the first cleaned email text\n",
    "        # apply the word2vec for embedding purpose\n",
    "        # check the word_to_vec model exists other wise train the word2vec model and use it\n",
    "       \n",
    "\n",
    "        if os.path.exists(self.config.vector_embed_model):\n",
    "            logger.info(f\"Vector embedding model exists at {self.config.vector_embed_model}\")\n",
    "            model=load_model(Path(self.config.vector_embed_model))\n",
    "\n",
    "        else:\n",
    "            logger.info(\"Model not exists - training the word2vec model on the email dataset\")\n",
    "            w2v_model = Word2Vec(sentences=data['tokens'], vector_size=100, window=5, min_count=1, workers=4)\n",
    "            save_model(w2v_model,self.config.vector_embed_model)\n",
    "            model=load_model(Path(self.config.vector_embed_model))\n",
    "        \n",
    "        print(data['tokens'][0])\n",
    "        example=data['tokens'][0]\n",
    "        vec=self.get_email_vector(example,model)\n",
    "        print(\"Vector is \",vec)\n",
    "\n",
    "        # Apply the vectorization to each email\n",
    "        data['Email_vector'] = data['tokens'].apply(lambda x: self.get_email_vector(x, model))\n",
    "        data.to_csv(self.config.vectorized_data)\n",
    "        # Show the first email's vector\n",
    "        print(data['Email_vector'].iloc[0])\n",
    "        \n",
    "\n",
    "\n",
    "    \n"
   ]
  },
  {
   "cell_type": "code",
   "execution_count": 19,
   "metadata": {},
   "outputs": [
    {
     "name": "stdout",
     "output_type": "stream",
     "text": [
      "[2025-08-04 13:11:30,375:'INFO':common:yaml file: config\\config.yaml loaded successfully]\n",
      "[2025-08-04 13:11:30,382:'INFO':common:yaml file: params.yaml loaded successfully]\n",
      "[2025-08-04 13:11:30,382:'INFO':common:yaml file: schema.yaml loaded successfully]\n",
      "[2025-08-04 13:11:30,382:'INFO':common:created directory at: artifacts]\n",
      "[2025-08-04 13:11:30,394:'INFO':common:created directory at: artifacts/data_preprocessed]\n"
     ]
    },
    {
     "name": "stderr",
     "output_type": "stream",
     "text": [
      "C:\\Users\\Admin\\AppData\\Local\\Temp\\ipykernel_12328\\3959936807.py:36: FutureWarning: A value is trying to be set on a copy of a DataFrame or Series through chained assignment using an inplace method.\n",
      "The behavior will change in pandas 3.0. This inplace method will never work because the intermediate object on which we are setting values always behaves as a copy.\n",
      "\n",
      "For example, when doing 'df[col].method(value, inplace=True)', try using 'df.method({col: value}, inplace=True)' or df[col] = df[col].method(value) instead, to perform the operation inplace on the original object.\n",
      "\n",
      "\n",
      "  data['Email Text'].fillna('',inplace=True)\n",
      "C:\\Users\\Admin\\AppData\\Local\\Temp\\ipykernel_12328\\3959936807.py:47: FutureWarning: A value is trying to be set on a copy of a DataFrame or Series through chained assignment using an inplace method.\n",
      "The behavior will change in pandas 3.0. This inplace method will never work because the intermediate object on which we are setting values always behaves as a copy.\n",
      "\n",
      "For example, when doing 'df[col].method(value, inplace=True)', try using 'df.method({col: value}, inplace=True)' or df[col] = df[col].method(value) instead, to perform the operation inplace on the original object.\n",
      "\n",
      "\n",
      "  data['Email Type'].replace({'Safe Email':0,'Phishing Email':1},inplace=True)\n",
      "C:\\Users\\Admin\\AppData\\Local\\Temp\\ipykernel_12328\\3959936807.py:47: FutureWarning: Downcasting behavior in `replace` is deprecated and will be removed in a future version. To retain the old behavior, explicitly call `result.infer_objects(copy=False)`. To opt-in to the future behavior, set `pd.set_option('future.no_silent_downcasting', True)`\n",
      "  data['Email Type'].replace({'Safe Email':0,'Phishing Email':1},inplace=True)\n"
     ]
    },
    {
     "name": "stdout",
     "output_type": "stream",
     "text": [
      "['disc', 'uniformitarian', 'sex', 'lang', 'dick', 'hudson', 'observ', 'us', 'use', 'aughter', 'voc', 'thoughtprovok', 'sure', 'fair', 'attribut', 'son', 'treat', 'like', 'senior', 'rel', 'one', 'thing', 'nt', 'normal', 'use', 'brother', 'way', 'aughter', 'hard', 'imagin', 'natur', 'class', 'compris', 'senior', 'rel', 'exclud', 'brother', 'anoth', 'seem', 'differ', 'imagin', 'distinct', 'seem', 'senior', 'rel', 'term', 'use', 'wider', 'varieti', 'context', 'e', 'g', 'call', 'distanc', 'get', 'someon', 'attent', 'henc', 'begin', 'utter', 'wherea', 'seem', 'natur', 'utter', 'like', 'ye', 'son', 'hand', 'son', 'one', 'like', 'son', 'son', 'help', 'although', 'perhap', 'latter', 'one', 'complet', 'imposs', 'alexi', 'mr']\n",
      "[2025-08-04 13:13:11,666:'INFO':3959936807:Vector embedding model exists at artifacts/data_preprocessed/word_vec_model.pkl]\n",
      "['disc', 'uniformitarian', 'sex', 'lang', 'dick', 'hudson', 'observ', 'us', 'use', 'aughter', 'voc', 'thoughtprovok', 'sure', 'fair', 'attribut', 'son', 'treat', 'like', 'senior', 'rel', 'one', 'thing', 'nt', 'normal', 'use', 'brother', 'way', 'aughter', 'hard', 'imagin', 'natur', 'class', 'compris', 'senior', 'rel', 'exclud', 'brother', 'anoth', 'seem', 'differ', 'imagin', 'distinct', 'seem', 'senior', 'rel', 'term', 'use', 'wider', 'varieti', 'context', 'e', 'g', 'call', 'distanc', 'get', 'someon', 'attent', 'henc', 'begin', 'utter', 'wherea', 'seem', 'natur', 'utter', 'like', 'ye', 'son', 'hand', 'son', 'one', 'like', 'son', 'son', 'help', 'although', 'perhap', 'latter', 'one', 'complet', 'imposs', 'alexi', 'mr']\n",
      "Vector is  [-0.63010776  0.34649888  0.16577671  0.05087362  0.3750512  -0.7105558\n",
      "  0.11066387  0.47208944 -0.17514937  0.18534982  0.18665843 -0.450242\n",
      "  0.34106004  1.1448774  -0.14611842 -0.899054    0.33875105 -0.73991245\n",
      "  0.03266615 -0.9895419   0.05088037  0.45206726  0.18757518 -0.4432451\n",
      " -0.41231278 -0.31213078 -0.05377909 -0.20534216 -0.49154913 -0.43541583\n",
      " -0.45415288  0.51261526 -0.3701995   0.55213106 -0.1025558   0.51428\n",
      " -0.04717299 -0.3977235  -0.43930706 -0.9110822  -0.30972752 -0.33447015\n",
      " -0.070215    0.28567502  0.8831895   0.6040712  -0.36881033  0.5263845\n",
      "  0.8656699   0.49147308 -0.4511319  -0.79512656  0.48104176  0.43403286\n",
      " -0.9877535   0.42159745  0.26839814 -0.22433604  0.14367442 -0.21505398\n",
      "  0.9547597   0.12806606 -0.19024332 -0.8482294  -0.59818506  0.06098303\n",
      " -0.64641243 -0.12919024 -1.1331062   0.23839481 -0.52749115 -0.05397201\n",
      "  0.54439026 -0.09450763  0.3304163  -0.1388552  -0.42643332  0.4528894\n",
      " -0.6171642  -0.5020251  -0.29234293 -0.22979607 -0.7220552   0.19867972\n",
      "  0.6490043  -0.5114833  -0.4849943   0.5317414   0.39051977  0.31705314\n",
      " -0.6682947  -0.01205334  0.24738875  0.56265414  1.0325192  -0.06265014\n",
      "  0.37945136 -0.8122297  -0.26394477  0.09370121]\n",
      "[-0.63010776  0.34649888  0.16577671  0.05087362  0.3750512  -0.7105558\n",
      "  0.11066387  0.47208944 -0.17514937  0.18534982  0.18665843 -0.450242\n",
      "  0.34106004  1.1448774  -0.14611842 -0.899054    0.33875105 -0.73991245\n",
      "  0.03266615 -0.9895419   0.05088037  0.45206726  0.18757518 -0.4432451\n",
      " -0.41231278 -0.31213078 -0.05377909 -0.20534216 -0.49154913 -0.43541583\n",
      " -0.45415288  0.51261526 -0.3701995   0.55213106 -0.1025558   0.51428\n",
      " -0.04717299 -0.3977235  -0.43930706 -0.9110822  -0.30972752 -0.33447015\n",
      " -0.070215    0.28567502  0.8831895   0.6040712  -0.36881033  0.5263845\n",
      "  0.8656699   0.49147308 -0.4511319  -0.79512656  0.48104176  0.43403286\n",
      " -0.9877535   0.42159745  0.26839814 -0.22433604  0.14367442 -0.21505398\n",
      "  0.9547597   0.12806606 -0.19024332 -0.8482294  -0.59818506  0.06098303\n",
      " -0.64641243 -0.12919024 -1.1331062   0.23839481 -0.52749115 -0.05397201\n",
      "  0.54439026 -0.09450763  0.3304163  -0.1388552  -0.42643332  0.4528894\n",
      " -0.6171642  -0.5020251  -0.29234293 -0.22979607 -0.7220552   0.19867972\n",
      "  0.6490043  -0.5114833  -0.4849943   0.5317414   0.39051977  0.31705314\n",
      " -0.6682947  -0.01205334  0.24738875  0.56265414  1.0325192  -0.06265014\n",
      "  0.37945136 -0.8122297  -0.26394477  0.09370121]\n"
     ]
    }
   ],
   "source": [
    "try:\n",
    "    config= ConfigurationManager()\n",
    "    config_path_data= config.get_data_preprocessing_config()\n",
    "    Data_preprocessing_main=Data_preprocessing_Validation(config=config_path_data)\n",
    "    Data_preprocessing_main.clean_and_Vector_embed()\n",
    "except Exception as e:\n",
    "    raise e"
   ]
  },
  {
   "cell_type": "code",
   "execution_count": null,
   "id": "afe22a8b",
   "metadata": {},
   "outputs": [],
   "source": []
  },
  {
   "cell_type": "code",
   "execution_count": null,
   "id": "9966958d",
   "metadata": {},
   "outputs": [],
   "source": []
  },
  {
   "cell_type": "code",
   "execution_count": null,
   "metadata": {},
   "outputs": [],
   "source": []
  },
  {
   "cell_type": "code",
   "execution_count": null,
   "metadata": {},
   "outputs": [],
   "source": []
  },
  {
   "cell_type": "code",
   "execution_count": null,
   "id": "686a0846",
   "metadata": {},
   "outputs": [],
   "source": []
  },
  {
   "cell_type": "code",
   "execution_count": null,
   "id": "947bd950",
   "metadata": {},
   "outputs": [],
   "source": []
  }
 ],
 "metadata": {
  "kernelspec": {
   "display_name": "nlp",
   "language": "python",
   "name": "python3"
  },
  "language_info": {
   "codemirror_mode": {
    "name": "ipython",
    "version": 3
   },
   "file_extension": ".py",
   "mimetype": "text/x-python",
   "name": "python",
   "nbconvert_exporter": "python",
   "pygments_lexer": "ipython3",
   "version": "3.11.1"
  }
 },
 "nbformat": 4,
 "nbformat_minor": 5
}
